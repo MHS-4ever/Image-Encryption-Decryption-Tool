{
  "cells": [
    {
      "cell_type": "markdown",
      "metadata": {
        "id": "vu-48Sui0zQv"
      },
      "source": [
        "#**Image Encryptor and Decryptor**"
      ]
    },
    {
      "cell_type": "markdown",
      "metadata": {
        "id": "MUEYzDS30sbI"
      },
      "source": [
        "##Import Libraries"
      ]
    },
    {
      "cell_type": "code",
      "execution_count": 1,
      "metadata": {
        "id": "rZjaCMeV0slJ"
      },
      "outputs": [],
      "source": [
        "import tkinter as tk\n",
        "from tkinter import filedialog, messagebox\n"
      ]
    },
    {
      "cell_type": "markdown",
      "metadata": {
        "id": "cmpX8R060sya"
      },
      "source": [
        "This cell imports the necessary modules:\n",
        "*   **tkinter as tk**: Provides tools to create GUI element.\n",
        "*   **filedialog:** Allows users to open file selection dialogs.\n",
        "*   **messagebox:** Displays messages and alerts to the user."
      ]
    },
    {
      "cell_type": "markdown",
      "metadata": {
        "id": "UN24OMBT0s7f"
      },
      "source": [
        "##Define the **ImageEncryptorApp** Class"
      ]
    },
    {
      "cell_type": "code",
      "execution_count": null,
      "metadata": {
        "id": "6tAIXcQs0tFF"
      },
      "outputs": [],
      "source": [
        "class ImageEncryptorApp:\n",
        "    def __init__(self, root):\n",
        "        self.root = root\n",
        "        #self.root.geometry(\"300x200\")\n",
        "        self.root.title(\"Image Encryptor\")\n",
        "\n",
        "        self.create_widgets()\n",
        "        self.current_file = None\n"
      ]
    },
    {
      "cell_type": "markdown",
      "metadata": {
        "id": "eFxWFJ_x0tN1"
      },
      "source": [
        "This cell defines the **ImageEncryptorApp** class, initializes the application window, and sets up the user interface."
      ]
    },
    {
      "cell_type": "markdown",
      "metadata": {
        "id": "_ve2xgBb0tZC"
      },
      "source": [
        "##Create Tkinter Widgets"
      ]
    },
    {
      "cell_type": "code",
      "execution_count": null,
      "metadata": {
        "id": "l2D_fDo00tiI"
      },
      "outputs": [],
      "source": [
        "def create_widgets(self):\n",
        "    # Create a frame for padding and organization\n",
        "    frame = tk.Frame(self.root, padx=20, pady=20)\n",
        "    frame.pack(expand=True, fill='both')\n",
        "\n",
        "    # Key entry field\n",
        "    self.key_label = tk.Label(frame, text=\"Encryption Key:\")\n",
        "    self.key_label.grid(row=0, column=0, padx=5, pady=5, sticky='w')\n",
        "\n",
        "    self.key_entry = tk.Entry(frame, width=20)\n",
        "    self.key_entry.grid(row=0, column=1, padx=5, pady=5)\n",
        "\n",
        "    # Encrypt button\n",
        "    self.encrypt_button = tk.Button(frame, text=\"Encrypt Image\", command=self.encrypt_image)\n",
        "    self.encrypt_button.grid(row=1, column=0, padx=5, pady=10)\n",
        "\n",
        "    # Decrypt button\n",
        "    self.decrypt_button = tk.Button(frame, text=\"Decrypt Image\", command=self.decrypt_image)\n",
        "    self.decrypt_button.grid(row=1, column=1, padx=5, pady=10)\n",
        "        \n"
      ]
    },
    {
      "cell_type": "markdown",
      "metadata": {
        "id": "d_rSPKNL0trR"
      },
      "source": [
        "This cell sets up the Tkinter widgets, including labels, entry fields, and buttons for encryption and decryption."
      ]
    },
    {
      "cell_type": "markdown",
      "metadata": {
        "id": "l2JKV2hG0t1j"
      },
      "source": [
        "##Encryption Method"
      ]
    },
    {
      "cell_type": "code",
      "execution_count": null,
      "metadata": {
        "id": "aYr0YxnY0t-1"
      },
      "outputs": [],
      "source": [
        "def encrypt_image(self):\n",
        "        self.current_file = filedialog.askopenfilename(\n",
        "            filetypes=[('JPEG files', '*.jpeg')]\n",
        "        )\n",
        "        if self.current_file:\n",
        "            key = self.get_key()\n",
        "            if key is not None:\n",
        "                if not self.is_image_encrypted(self.current_file, key):\n",
        "                    self.process_image(self.current_file, key, encrypt=True)\n",
        "                else:\n",
        "                    messagebox.showinfo(\"Info\", \"Image is already encrypted.\")\n"
      ]
    },
    {
      "cell_type": "markdown",
      "metadata": {
        "id": "wcmu8Fru0uJU"
      },
      "source": [
        "This cell defines the **encrypt_image** method, which handles file selection, key retrieval, and image encryption."
      ]
    },
    {
      "cell_type": "markdown",
      "metadata": {
        "id": "IWNtTpuG0uRl"
      },
      "source": [
        "##Decryption Method"
      ]
    },
    {
      "cell_type": "code",
      "execution_count": null,
      "metadata": {
        "id": "hQQJ87vQ0uaY"
      },
      "outputs": [],
      "source": [
        "def decrypt_image(self):\n",
        "        self.current_file = filedialog.askopenfilename(\n",
        "            filetypes=[('JPEG files', '*.jpeg')]\n",
        "        )\n",
        "        if self.current_file:\n",
        "            key = self.get_key()\n",
        "            if key is not None:\n",
        "                if self.is_image_encrypted(self.current_file, key):\n",
        "                    self.process_image(self.current_file, key, encrypt=False)\n",
        "                else:\n",
        "                    messagebox.showinfo(\"Info\", \"Image is not encrypted or is already decrypted.\")\n"
      ]
    },
    {
      "cell_type": "markdown",
      "metadata": {
        "id": "axoS5rkH0ujr"
      },
      "source": [
        "This cell defines the **decrypt_image** method, which handles file selection, key retrieval, and image decryption."
      ]
    },
    {
      "cell_type": "markdown",
      "metadata": {
        "id": "nBN3BAD40urN"
      },
      "source": [
        "##Key Validation"
      ]
    },
    {
      "cell_type": "code",
      "execution_count": null,
      "metadata": {
        "id": "TXHyMio00u0X"
      },
      "outputs": [],
      "source": [
        "    def get_key(self):\n",
        "        key_str = self.key_entry.get().strip()\n",
        "        if not key_str.isdigit():\n",
        "            messagebox.showerror(\"Invalid Input\", \"Key must be a number.\")\n",
        "            return None\n",
        "        return int(key_str)\n"
      ]
    },
    {
      "cell_type": "markdown",
      "metadata": {
        "id": "N8yrGotF0u8O"
      },
      "source": [
        "This cell defines the get_key method, which retrieves and validates the encryption/decryption key from the user input."
      ]
    },
    {
      "cell_type": "markdown",
      "metadata": {
        "id": "Nzv0r-HI0vEv"
      },
      "source": [
        "##Image Validation"
      ]
    },
    {
      "cell_type": "code",
      "execution_count": null,
      "metadata": {
        "id": "4b5I0XQK0vNV"
      },
      "outputs": [],
      "source": [
        "    def is_image_encrypted(self, file_path, key):\n",
        "        try:\n",
        "            # Check if the file is encrypted by seeing if XORing with the key returns readable data\n",
        "            with open(file_path, 'rb') as file:\n",
        "                image_data = bytearray(file.read())\n",
        "\n",
        "            # Try to decrypt and see if it results in valid image data\n",
        "            decrypted_data = bytearray(b ^ key for b in image_data)\n",
        "            return self.is_valid_image(decrypted_data)\n",
        "\n",
        "        except Exception as e:\n",
        "            messagebox.showerror(\"Error\", f\"An error occurred: {e}\")\n",
        "            return False\n",
        "\n",
        "    def is_valid_image(self, data):\n",
        "        # Check if the data is valid for PNG, JPG, JPEG\n",
        "        import imghdr\n",
        "        image_type = imghdr.what(None, h=data)\n",
        "        return image_type in ['png', 'jpeg', 'jpg']\n"
      ]
    },
    {
      "cell_type": "markdown",
      "metadata": {
        "id": "D6KjCHTZ0vWF"
      },
      "source": [
        "This cell contains methods for validating if an image is encrypted and if decrypted data is a valid image format."
      ]
    },
    {
      "cell_type": "markdown",
      "metadata": {
        "id": "fk9pEPxP0vdo"
      },
      "source": [
        "##Process Image"
      ]
    },
    {
      "cell_type": "code",
      "execution_count": null,
      "metadata": {
        "id": "3F5SHqlr0vl1"
      },
      "outputs": [],
      "source": [
        "    def process_image(self, file_path, key, encrypt=True):\n",
        "        try:\n",
        "            with open(file_path, 'rb') as file:\n",
        "                image_data = bytearray(file.read())\n",
        "\n",
        "            # Encrypt or decrypt the image\n",
        "            image_data = bytearray(b ^ key for b in image_data)\n",
        "\n",
        "            with open(file_path, 'wb') as file:\n",
        "                file.write(image_data)\n",
        "\n",
        "            operation = \"encrypted\" if encrypt else \"decrypted\"\n",
        "            messagebox.showinfo(\"Success\", f\"Image {operation} successfully!\")\n",
        "\n",
        "        except Exception as e:\n",
        "            messagebox.showerror(\"Error\", f\"An error occurred: {e}\")\n"
      ]
    },
    {
      "cell_type": "markdown",
      "metadata": {
        "id": "r4UcWTnV0vtK"
      },
      "source": [
        "This cell defines the **process_image** method, which performs encryption or decryption on the selected image file."
      ]
    },
    {
      "cell_type": "markdown",
      "metadata": {
        "id": "z8R2iYDK0v1S"
      },
      "source": [
        "##Main Execution"
      ]
    },
    {
      "cell_type": "code",
      "execution_count": null,
      "metadata": {
        "id": "aiYFjJlq0v9Q"
      },
      "outputs": [],
      "source": [
        "if __name__ == \"__main__\":\n",
        "    root = tk.Tk()\n",
        "    app = ImageEncryptorApp(root)\n",
        "    root.mainloop()\n"
      ]
    },
    {
      "cell_type": "markdown",
      "metadata": {
        "id": "D43qZkbL0wDx"
      },
      "source": [
        "This cell contains the main execution block to initialize and run the Tkinter application."
      ]
    },
    {
      "cell_type": "markdown",
      "metadata": {
        "id": "LkC4Q6eI20nP"
      },
      "source": [
        "# Conclusion and Future Updates\n",
        "\n",
        "This notebook provides a Tkinter application for encrypting and decrypting JPEG images.\n",
        "\n",
        "### Future Updates:\n",
        "- **Support for Additional Formats:** Extend functionality to handle other image formats such as PNG, JPG etc.\n",
        "- **Enhanced Validation:** Improve validation methods to handle more complex image checks.\n",
        "- **User Interface Improvements:** Add features like progress bars and better error handling.\n",
        "- **Encryption Algorithms:** Explore advanced encryption algorithms beyond simple XOR for better security.\n",
        "\n",
        "Feel free to experiment with the code and adapt it to your specific needs!\n"
      ]
    }
  ],
  "metadata": {
    "colab": {
      "provenance": []
    },
    "kernelspec": {
      "display_name": "Python 3",
      "name": "python3"
    },
    "language_info": {
      "name": "python"
    }
  },
  "nbformat": 4,
  "nbformat_minor": 0
}
